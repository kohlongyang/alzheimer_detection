{
 "cells": [
  {
   "cell_type": "code",
   "execution_count": 2,
   "metadata": {},
   "outputs": [
    {
     "name": "stdout",
     "output_type": "stream",
     "text": [
      "Train-test split completed.\n"
     ]
    }
   ],
   "source": [
    "import os\n",
    "import shutil\n",
    "import random\n",
    "\n",
    "# Define the directories\n",
    "CURRENT_DIR = os.getcwd()\n",
    "TRAIN_DIR = os.path.join(CURRENT_DIR, \"data\", \"train\")\n",
    "\n",
    "# Create a new directory for the test split\n",
    "os.makedirs(os.path.join(CURRENT_DIR, \"data\", \"test\"), exist_ok=True)\n",
    "TEST_SPLIT_DIR = os.path.join(CURRENT_DIR, \"data\", \"test\")\n",
    "\n",
    "# Define the train-test split ratio (80% train, 20% test)\n",
    "split_ratio = 0.8\n",
    "\n",
    "# Iterate through the subdirectories in the train folder\n",
    "for sub_dir in os.listdir(TRAIN_DIR):\n",
    "    sub_dir_path = os.path.join(TRAIN_DIR, sub_dir)\n",
    "    \n",
    "    # Create a corresponding subdirectory in the test split directory\n",
    "    os.makedirs(os.path.join(TEST_SPLIT_DIR, sub_dir), exist_ok=True)\n",
    "    \n",
    "    # Get the list of JPG files in the subdirectory\n",
    "    file_list = [file for file in os.listdir(sub_dir_path) if file.lower().endswith(\".jpg\")]\n",
    "    \n",
    "    # Calculate the number of files for the test split\n",
    "    num_files_test = int(len(file_list) * (1 - split_ratio))\n",
    "    \n",
    "    # Randomly select files for the test split\n",
    "    test_files = random.sample(file_list, num_files_test)\n",
    "    \n",
    "    # Move the selected files to the test split directory\n",
    "    for file in test_files:\n",
    "        src_path = os.path.join(sub_dir_path, file)\n",
    "        dest_path = os.path.join(TEST_SPLIT_DIR, sub_dir, file)\n",
    "        shutil.move(src_path, dest_path)\n",
    "\n",
    "print(\"Train-test split completed.\")\n"
   ]
  }
 ],
 "metadata": {
  "kernelspec": {
   "display_name": "base",
   "language": "python",
   "name": "python3"
  },
  "language_info": {
   "codemirror_mode": {
    "name": "ipython",
    "version": 3
   },
   "file_extension": ".py",
   "mimetype": "text/x-python",
   "name": "python",
   "nbconvert_exporter": "python",
   "pygments_lexer": "ipython3",
   "version": "3.11.3"
  }
 },
 "nbformat": 4,
 "nbformat_minor": 2
}
