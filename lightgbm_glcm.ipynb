{
 "cells": [
  {
   "cell_type": "code",
   "execution_count": null,
   "metadata": {},
   "outputs": [],
   "source": [
    "# Uncomment if you haven't install the packages\n",
    "# !pip install tabulate\n",
    "# !pip install hyperopt\n",
    "# !pip install lightgbm\n",
    "# !pip install imblearn"
   ]
  },
  {
   "cell_type": "code",
   "execution_count": 36,
   "metadata": {},
   "outputs": [],
   "source": [
    "import numpy as np\n",
    "import pandas as pd\n",
    "import matplotlib.pyplot as plt\n",
    "import seaborn as sns\n",
    "import lightgbm as lgb\n",
    "from lightgbm import LGBMClassifier\n",
    "from tabulate import tabulate\n",
    "\n",
    "from imblearn.metrics import geometric_mean_score\n",
    "\n",
    "from functools import partial\n",
    "from hyperopt import hp,fmin, tpe, Trials\n",
    "from hyperopt.pyll.base import scope\n",
    "\n",
    "from sklearn.model_selection import train_test_split\n",
    "from sklearn.preprocessing import StandardScaler\n",
    "from sklearn.ensemble import GradientBoostingClassifier\n",
    "from sklearn.preprocessing import LabelEncoder\n",
    "from sklearn.metrics import classification_report, confusion_matrix\n",
    "from sklearn.metrics import accuracy_score, precision_score, f1_score, recall_score, matthews_corrcoef, fbeta_score"
   ]
  },
  {
   "cell_type": "code",
   "execution_count": 2,
   "metadata": {},
   "outputs": [],
   "source": [
    "X_TRAIN_DIR = \"processed_data/glcm/X_train.pkl\"\n",
    "y_TRAIN_DIR = \"processed_data/glcm/y_train.pkl\"\n",
    "X_TEST_DIR = \"processed_data/glcm/X_test.pkl\"\n",
    "y_TEST_DIR = \"processed_data/glcm/y_test.pkl\"\n",
    "\n",
    "X_train = pd.read_pickle(X_TRAIN_DIR)\n",
    "y_train = pd.read_pickle(y_TRAIN_DIR)\n",
    "X_test = pd.read_pickle(X_TEST_DIR)\n",
    "y_test = pd.read_pickle(y_TEST_DIR)"
   ]
  },
  {
   "cell_type": "code",
   "execution_count": 3,
   "metadata": {},
   "outputs": [],
   "source": [
    "sc = StandardScaler()\n",
    "sc.fit(X_train)\n",
    "sc.fit(X_test)\n",
    "X_train = sc.transform(X_train)\n",
    "X_test = sc.transform(X_test)"
   ]
  },
  {
   "cell_type": "code",
   "execution_count": 16,
   "metadata": {},
   "outputs": [
    {
     "name": "stderr",
     "output_type": "stream",
     "text": [
      "C:\\Users\\bl020\\AppData\\Local\\Packages\\PythonSoftwareFoundation.Python.3.8_qbz5n2kfra8p0\\LocalCache\\local-packages\\Python38\\site-packages\\lightgbm\\engine.py:172: UserWarning: Found `n_estimators` in params. Will use it instead of argument\n",
      "  _log_warning(f\"Found `{alias}` in params. Will use it instead of argument\")\n"
     ]
    },
    {
     "data": {
      "image/png": "[encoded data removed]",
      "text/plain": [
       "<Figure size 576x432 with 2 Axes>"
      ]
     },
     "metadata": {
      "needs_background": "light"
     },
     "output_type": "display_data"
    },
    {
     "name": "stdout",
     "output_type": "stream",
     "text": [
      "Classification Report:\n",
      "              precision    recall  f1-score   support\n",
      "\n",
      "           0       0.84      0.85      0.84       511\n",
      "           1       0.72      0.78      0.75       358\n",
      "           2       0.73      0.60      0.66       151\n",
      "           3       1.00      0.30      0.46        10\n",
      "\n",
      "    accuracy                           0.78      1030\n",
      "   macro avg       0.82      0.63      0.68      1030\n",
      "weighted avg       0.78      0.78      0.78      1030\n",
      "\n"
     ]
    }
   ],
   "source": [
    "label_encoder = LabelEncoder()\n",
    "y_train_encoded = label_encoder.fit_transform(y_train)\n",
    "y_test_encoded = label_encoder.transform(y_test)\n",
    "class_labels = label_encoder.classes_\n",
    "d_train = lgb.Dataset(X_train, label = y_train)\n",
    "\n",
    "params = {'verbose':-1,\n",
    "          'learning_rate': 0.3589206126185699,\n",
    "          'feature_fraction': 0.5581565764104318,\n",
    "          'lambda_l2_positive': 5.330708142206832e-07,\n",
    "          'n_estimators': 1019, \n",
    "          'reg_alpha': 0, 'reg_lambda': 1, 'subsample': 0.9477456081913863, 'subsample_for_bin': 280000,\n",
    "          'boosting_type': 'gbdt',\n",
    "          'objective': 'multiclass',\n",
    "          'metric': 'multi_logloss',\n",
    "          'max_depth' : 10,\n",
    "          'num_leaves':45,\n",
    "          'num_class':len(class_labels)}\n",
    "\n",
    "\n",
    "clf = lgb.train(params, d_train, 200)\n",
    "\n",
    "y_pred_1 = clf.predict(X_test)\n",
    "\n",
    "y_pred = [class_labels[idx] for idx in np.argmax(y_pred_1, axis=1)]\n",
    "\n",
    "cm = confusion_matrix(y_test, y_pred)\n",
    "\n",
    "# Plot confusion matrix as a heatmap\n",
    "plt.figure(figsize=(8, 6))\n",
    "sns.heatmap(cm, annot=True, fmt=\"d\", cmap=\"Blues\", xticklabels=class_labels, yticklabels=class_labels)\n",
    "plt.xlabel(\"Predicted\")\n",
    "plt.ylabel(\"True\")\n",
    "plt.title(\"Confusion Matrix\")\n",
    "plt.show()\n",
    "\n",
    "# Print classification report\n",
    "print(\"Classification Report:\")\n",
    "print(classification_report(y_test, y_pred))\n"
   ]
  },
  {
   "cell_type": "code",
   "execution_count": 40,
   "metadata": {},
   "outputs": [
    {
     "name": "stdout",
     "output_type": "stream",
     "text": [
      "Metric              Score\n",
      "---------------  --------\n",
      "Precision Score  0.823033\n",
      "Recall Score     0.632823\n",
      "F1 Score         0.679082\n",
      "F2 Score         0.647014\n",
      "MCC              0.641915\n",
      "G-means Score    0.759242\n"
     ]
    }
   ],
   "source": [
    "print(tabulate([['Precision Score', precision_score(y_test, y_pred, average='macro')], \n",
    "                ['Recall Score', recall_score(y_test, y_pred, average='macro')],\n",
    "                ['F1 Score', f1_score(y_test, y_pred, average='macro')],\n",
    "                ['F2 Score', fbeta_score(y_test,y_pred, beta=2,average='macro')],\n",
    "                ['MCC', matthews_corrcoef(y_test,y_pred)],\n",
    "                ['G-means Score', geometric_mean_score(y_test, y_pred, average='macro')]], \n",
    "                headers=['Metric', 'Score']))"
   ]
  },
  {
   "cell_type": "code",
   "execution_count": null,
   "metadata": {},
   "outputs": [],
   "source": [
    "# def optimize(params, x, y):\n",
    "#     clf = LGBMClassifier(**params, random_state=123)\n",
    "#     accuracies = []\n",
    "\n",
    "    \n",
    "#     clf.fit(X_train,y_train)\n",
    "#     preds =  clf.predict(X_test)\n",
    "#     fold_acc = recall_score(y_test,preds, average=\"macro\")\n",
    "#     accuracies.append(fold_acc)\n",
    "\n",
    "#     return -1.0 * np.mean(accuracies)\n",
    "\n",
    "# #defining a set of values as hp for hyperparameters\n",
    "# param_space2 = {'boosting_type': hp.choice('boosting_type',['gbdt','dart','goss']),\n",
    "#                 'subsample_for_bin': scope.int(hp.quniform('subsample_for_bin', 20000, 300000, 20000)),\n",
    "#                 'feature_fraction': hp.uniform('feature_fraction', 0.5, 1),\n",
    "#                 'reg_alpha': hp.choice('reg_alpha', [0, hp.loguniform('lambda_l1_positive', -16, 2)]),\n",
    "#                 'reg_lambda': hp.choice('reg_lambda', [0, hp.loguniform('lambda_l2_positive', -16, 2)]),\n",
    "#                 \"max_depth\" : scope.int(hp.quniform(\"max_depth\",3, 20, 1)) ,\n",
    "#                 \"n_estimators\": scope.int(hp.quniform(\"n_estimators\",100,1500,1)),\n",
    "#                 'learning_rate': hp.uniform(\"learning_rate\",0.01,1),\n",
    "#                 'num_leaves': scope.int(hp.quniform('num_leaves', 24, 80, 1)),\n",
    "#                 'subsample': hp.uniform(\"subsample\", 0.01, 1.0),\n",
    "#                 'objective': 'multiclass',\n",
    "#                 'metric': 'multi_logloss',\n",
    "#                 'verbose' : -1}\n",
    "                                            \n",
    "# #defiing optimization_fuction as partial and calling optimize within it\n",
    "# optimization_fuction2 = partial(optimize, x = np.array(X_train), y = np.array(y_train)) \n",
    "# trials2 = Trials()\n",
    "\n",
    "# #Getting the optimum values for hyperparameters\n",
    "# result2 = fmin(\n",
    "#     fn = optimization_fuction2,\n",
    "#     space = param_space2,\n",
    "#     algo = tpe.suggest,\n",
    "#     max_evals = 15,\n",
    "#     trials = trials2,\n",
    "# )\n",
    "\n",
    "# #Printing the best hyperparemeter set\n",
    "# print(result2)\n"
   ]
  }
 ],
 "metadata": {
  "kernelspec": {
   "display_name": "Python 3",
   "language": "python",
   "name": "python3"
  },
  "language_info": {
   "codemirror_mode": {
    "name": "ipython",
    "version": 3
   },
   "file_extension": ".py",
   "mimetype": "text/x-python",
   "name": "python",
   "nbconvert_exporter": "python",
   "pygments_lexer": "ipython3",
   "version": "3.8.10"
  }
 },
 "nbformat": 4,
 "nbformat_minor": 2
}
